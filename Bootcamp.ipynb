{
 "cells": [
  {
   "cell_type": "markdown",
   "metadata": {},
   "source": [
    "# Task1"
   ]
  },
  {
   "cell_type": "code",
   "execution_count": 3,
   "metadata": {},
   "outputs": [],
   "source": [
    "def hash_string(s = \"Python Bootcamp\"):\n",
    "    from hashlib import sha256\n",
    "    return sha256(s.encode('utf-8')).hexdigest()"
   ]
  },
  {
   "cell_type": "code",
   "execution_count": 4,
   "metadata": {},
   "outputs": [
    {
     "data": {
      "text/plain": [
       "'b30103af390903d16b7b16264caeda25e986014787cbaa37a57ecc3b9eae15c0'"
      ]
     },
     "execution_count": 4,
     "metadata": {},
     "output_type": "execute_result"
    }
   ],
   "source": [
    "hash_string()"
   ]
  },
  {
   "cell_type": "markdown",
   "metadata": {},
   "source": [
    "# Task2"
   ]
  },
  {
   "cell_type": "code",
   "execution_count": 11,
   "metadata": {},
   "outputs": [],
   "source": [
    "def tiktok_gif(url):\n",
    "    \n",
    "    from moviepy.editor import VideoFileClip\n",
    "    from os.path import abspath\n",
    "    \n",
    "    name = input(\"Enter the name for the video\\n\")\n",
    "    \n",
    "    urllib.request.urlretrieve(url,name + '.mp4') \n",
    "    clip = VideoFileClip(name + '.mp4')\n",
    "    \n",
    "    \n",
    "    gif_name=\"TikTok_\" + name + \".gif\"\n",
    "    clip.write_gif(\"output.gif\")\n",
    "    \n",
    "    return abspath(gif_name)"
   ]
  },
  {
   "cell_type": "markdown",
   "metadata": {},
   "source": [
    "# Task3"
   ]
  },
  {
   "cell_type": "code",
   "execution_count": 5,
   "metadata": {},
   "outputs": [],
   "source": [
    "import pandas as pd\n",
    "\n",
    "data={'film_name':[' Cyborgs: Heroes Never Die','Black Level',],\n",
    "      'note':['It is a 2017 Ukrainian war drama film about the Second Battle of Donetsk Airport during the war in Donbas.'\n",
    "              ,'It is a 2017 Ukrainian drama film directed by Valentyn Vasyanovych. It was selected as the Ukrainian entry for the Best Foreign Language Film at the 90th Academy Awards, but it was not nominated.'],\n",
    "      'rating':[5,4]}\n",
    "\n",
    "df=pd.DataFrame(data)\n",
    "\n",
    "df.to_csv('ukrainian_films.csv')"
   ]
  },
  {
   "cell_type": "code",
   "execution_count": 10,
   "metadata": {},
   "outputs": [
    {
     "data": {
      "text/html": [
       "<div>\n",
       "<style scoped>\n",
       "    .dataframe tbody tr th:only-of-type {\n",
       "        vertical-align: middle;\n",
       "    }\n",
       "\n",
       "    .dataframe tbody tr th {\n",
       "        vertical-align: top;\n",
       "    }\n",
       "\n",
       "    .dataframe thead th {\n",
       "        text-align: right;\n",
       "    }\n",
       "</style>\n",
       "<table border=\"1\" class=\"dataframe\">\n",
       "  <thead>\n",
       "    <tr style=\"text-align: right;\">\n",
       "      <th></th>\n",
       "      <th>film_name</th>\n",
       "      <th>note</th>\n",
       "      <th>rating</th>\n",
       "    </tr>\n",
       "  </thead>\n",
       "  <tbody>\n",
       "    <tr>\n",
       "      <th>0</th>\n",
       "      <td>Cyborgs: Heroes Never Die</td>\n",
       "      <td>It is a 2017 Ukrainian war drama film about th...</td>\n",
       "      <td>5</td>\n",
       "    </tr>\n",
       "    <tr>\n",
       "      <th>1</th>\n",
       "      <td>Black Level</td>\n",
       "      <td>It is a 2017 Ukrainian drama film directed by ...</td>\n",
       "      <td>4</td>\n",
       "    </tr>\n",
       "  </tbody>\n",
       "</table>\n",
       "</div>"
      ],
      "text/plain": [
       "                    film_name  \\\n",
       "0   Cyborgs: Heroes Never Die   \n",
       "1                 Black Level   \n",
       "\n",
       "                                                note  rating  \n",
       "0  It is a 2017 Ukrainian war drama film about th...       5  \n",
       "1  It is a 2017 Ukrainian drama film directed by ...       4  "
      ]
     },
     "execution_count": 10,
     "metadata": {},
     "output_type": "execute_result"
    }
   ],
   "source": [
    "def read_notes(file='ukrainian_films.csv'):\n",
    "    df = pandas.read_csv(file, \n",
    "            header=0, \n",
    "            names=['film_name', 'note', 'rating'])\n",
    "    return df\n",
    "read_notes()"
   ]
  },
  {
   "cell_type": "code",
   "execution_count": 12,
   "metadata": {},
   "outputs": [
    {
     "data": {
      "text/html": [
       "<div>\n",
       "<style scoped>\n",
       "    .dataframe tbody tr th:only-of-type {\n",
       "        vertical-align: middle;\n",
       "    }\n",
       "\n",
       "    .dataframe tbody tr th {\n",
       "        vertical-align: top;\n",
       "    }\n",
       "\n",
       "    .dataframe thead th {\n",
       "        text-align: right;\n",
       "    }\n",
       "</style>\n",
       "<table border=\"1\" class=\"dataframe\">\n",
       "  <thead>\n",
       "    <tr style=\"text-align: right;\">\n",
       "      <th></th>\n",
       "      <th>film_name</th>\n",
       "      <th>note</th>\n",
       "      <th>rating</th>\n",
       "    </tr>\n",
       "  </thead>\n",
       "  <tbody>\n",
       "    <tr>\n",
       "      <th>0</th>\n",
       "      <td>Cyborgs: Heroes Never Die</td>\n",
       "      <td>It is a 2017 Ukrainian war drama film about th...</td>\n",
       "      <td>5</td>\n",
       "    </tr>\n",
       "    <tr>\n",
       "      <th>1</th>\n",
       "      <td>Black Level</td>\n",
       "      <td>It is a 2017 Ukrainian drama film directed by ...</td>\n",
       "      <td>4</td>\n",
       "    </tr>\n",
       "    <tr>\n",
       "      <th>2</th>\n",
       "      <td>Ukrainian Sheriffs</td>\n",
       "      <td>It is a 2015 Ukrainian documentary film direct...</td>\n",
       "      <td>4</td>\n",
       "    </tr>\n",
       "  </tbody>\n",
       "</table>\n",
       "</div>"
      ],
      "text/plain": [
       "                    film_name  \\\n",
       "0   Cyborgs: Heroes Never Die   \n",
       "1                 Black Level   \n",
       "2          Ukrainian Sheriffs   \n",
       "\n",
       "                                                note  rating  \n",
       "0  It is a 2017 Ukrainian war drama film about th...       5  \n",
       "1  It is a 2017 Ukrainian drama film directed by ...       4  \n",
       "2  It is a 2015 Ukrainian documentary film direct...       4  "
      ]
     },
     "execution_count": 12,
     "metadata": {},
     "output_type": "execute_result"
    }
   ],
   "source": [
    "def add_notes(file, film_name, note, rating):\n",
    "    df = pandas.read_csv(file, header=0,names=['film_name', 'note', 'rating'])\n",
    "    df.loc[len(df.index)] = [film_name, note, rating]\n",
    "    df.to_csv(file)\n",
    "    return df\n",
    "add_notes('ukrainian_films.csv',\n",
    "          'Ukrainian Sheriffs',\n",
    "          'It is a 2015 Ukrainian documentary film directed by Roman Bondarchuk. It was selected as the Ukrainian entry for the Best Foreign Language Film at the 89th Academy Awards but it was not nominated.',\n",
    "          4)"
   ]
  },
  {
   "cell_type": "code",
   "execution_count": 15,
   "metadata": {},
   "outputs": [
    {
     "data": {
      "text/html": [
       "<div>\n",
       "<style scoped>\n",
       "    .dataframe tbody tr th:only-of-type {\n",
       "        vertical-align: middle;\n",
       "    }\n",
       "\n",
       "    .dataframe tbody tr th {\n",
       "        vertical-align: top;\n",
       "    }\n",
       "\n",
       "    .dataframe thead th {\n",
       "        text-align: right;\n",
       "    }\n",
       "</style>\n",
       "<table border=\"1\" class=\"dataframe\">\n",
       "  <thead>\n",
       "    <tr style=\"text-align: right;\">\n",
       "      <th></th>\n",
       "      <th>film_name</th>\n",
       "      <th>note</th>\n",
       "      <th>rating</th>\n",
       "    </tr>\n",
       "  </thead>\n",
       "  <tbody>\n",
       "    <tr>\n",
       "      <th>0</th>\n",
       "      <td>Cyborgs: Heroes Never Die</td>\n",
       "      <td>It is a 2017 Ukrainian war drama film about th...</td>\n",
       "      <td>5</td>\n",
       "    </tr>\n",
       "    <tr>\n",
       "      <th>1</th>\n",
       "      <td>Black Level</td>\n",
       "      <td>It is a 2017 Ukrainian drama film directed by ...</td>\n",
       "      <td>4</td>\n",
       "    </tr>\n",
       "  </tbody>\n",
       "</table>\n",
       "</div>"
      ],
      "text/plain": [
       "                    film_name  \\\n",
       "0   Cyborgs: Heroes Never Die   \n",
       "1                 Black Level   \n",
       "\n",
       "                                                note  rating  \n",
       "0  It is a 2017 Ukrainian war drama film about th...       5  \n",
       "1  It is a 2017 Ukrainian drama film directed by ...       4  "
      ]
     },
     "execution_count": 15,
     "metadata": {},
     "output_type": "execute_result"
    }
   ],
   "source": [
    "def delete_notes_by_name(file, film_name):\n",
    "    df = pandas.read_csv(file, \n",
    "            header=0, \n",
    "            names=['film_name', 'note', 'rating'])\n",
    "    df =  df[df.film_name != film_name] \n",
    "    df.to_csv(file)\n",
    "    return df\n",
    "delete_notes_by_name(file='ukrainian_films.csv', film_name='Ukrainian Sheriffs')"
   ]
  },
  {
   "cell_type": "code",
   "execution_count": 18,
   "metadata": {},
   "outputs": [
    {
     "data": {
      "text/html": [
       "<div>\n",
       "<style scoped>\n",
       "    .dataframe tbody tr th:only-of-type {\n",
       "        vertical-align: middle;\n",
       "    }\n",
       "\n",
       "    .dataframe tbody tr th {\n",
       "        vertical-align: top;\n",
       "    }\n",
       "\n",
       "    .dataframe thead th {\n",
       "        text-align: right;\n",
       "    }\n",
       "</style>\n",
       "<table border=\"1\" class=\"dataframe\">\n",
       "  <thead>\n",
       "    <tr style=\"text-align: right;\">\n",
       "      <th></th>\n",
       "      <th>film_name</th>\n",
       "      <th>note</th>\n",
       "      <th>rating</th>\n",
       "    </tr>\n",
       "  </thead>\n",
       "  <tbody>\n",
       "    <tr>\n",
       "      <th>0</th>\n",
       "      <td>Cyborgs: Heroes Never Die</td>\n",
       "      <td>It is a 2017 Ukrainian war drama film about th...</td>\n",
       "      <td>5</td>\n",
       "    </tr>\n",
       "  </tbody>\n",
       "</table>\n",
       "</div>"
      ],
      "text/plain": [
       "                    film_name  \\\n",
       "0   Cyborgs: Heroes Never Die   \n",
       "\n",
       "                                                note  rating  \n",
       "0  It is a 2017 Ukrainian war drama film about th...       5  "
      ]
     },
     "execution_count": 18,
     "metadata": {},
     "output_type": "execute_result"
    }
   ],
   "source": [
    "def max_film_rate(file):\n",
    "    df = pandas.read_csv(file, \n",
    "            header=0, \n",
    "            names=['film_name', 'note', 'rating'])\n",
    "    \n",
    "    df0 =  df[df.rating == max(df.rating)] \n",
    "    return df0\n",
    "max_film_rate(file='ukrainian_films.csv')"
   ]
  },
  {
   "cell_type": "code",
   "execution_count": 19,
   "metadata": {},
   "outputs": [
    {
     "data": {
      "text/html": [
       "<div>\n",
       "<style scoped>\n",
       "    .dataframe tbody tr th:only-of-type {\n",
       "        vertical-align: middle;\n",
       "    }\n",
       "\n",
       "    .dataframe tbody tr th {\n",
       "        vertical-align: top;\n",
       "    }\n",
       "\n",
       "    .dataframe thead th {\n",
       "        text-align: right;\n",
       "    }\n",
       "</style>\n",
       "<table border=\"1\" class=\"dataframe\">\n",
       "  <thead>\n",
       "    <tr style=\"text-align: right;\">\n",
       "      <th></th>\n",
       "      <th>film_name</th>\n",
       "      <th>note</th>\n",
       "      <th>rating</th>\n",
       "    </tr>\n",
       "  </thead>\n",
       "  <tbody>\n",
       "    <tr>\n",
       "      <th>1</th>\n",
       "      <td>Black Level</td>\n",
       "      <td>It is a 2017 Ukrainian drama film directed by ...</td>\n",
       "      <td>4</td>\n",
       "    </tr>\n",
       "  </tbody>\n",
       "</table>\n",
       "</div>"
      ],
      "text/plain": [
       "     film_name                                               note  rating\n",
       "1  Black Level  It is a 2017 Ukrainian drama film directed by ...       4"
      ]
     },
     "execution_count": 19,
     "metadata": {},
     "output_type": "execute_result"
    }
   ],
   "source": [
    "def min_film_rate(file):\n",
    "    df = pandas.read_csv(file, \n",
    "            header=0, \n",
    "            names=['film_name', 'note', 'rating'])\n",
    "    \n",
    "    df0 =  df[df.rating == min(df.rating)] \n",
    "    return df0\n",
    "min_film_rate(file='ukrainian_films.csv')"
   ]
  },
  {
   "cell_type": "code",
   "execution_count": 21,
   "metadata": {},
   "outputs": [
    {
     "data": {
      "text/plain": [
       "4.5"
      ]
     },
     "execution_count": 21,
     "metadata": {},
     "output_type": "execute_result"
    }
   ],
   "source": [
    "def avg_film_rate(file):\n",
    "    df = pandas.read_csv(file, \n",
    "            header=0, \n",
    "            names=['film_name', 'note', 'rating'])\n",
    "    \n",
    "     \n",
    "    return df[\"rating\"].mean(skipna = True)\n",
    "avg_film_rate(file='ukrainian_films.csv')"
   ]
  },
  {
   "cell_type": "code",
   "execution_count": null,
   "metadata": {},
   "outputs": [],
   "source": [
    "class FilmsNotes:\n",
    "    \n",
    "    def read_notes(file='ukrainian_films.csv'):\n",
    "        df = pandas.read_csv(file, \n",
    "            header=0, \n",
    "            names=['film_name', 'note', 'rating'])\n",
    "        return df\n",
    "\n",
    "    def add_notes(file, film_name, note, rating):\n",
    "        df = pandas.read_csv(file, header=0,names=['film_name', 'note', 'rating'])\n",
    "        df.loc[len(df.index)] = [film_name, note, rating]\n",
    "        df.to_csv(file)\n",
    "        return df\n",
    " \n",
    "    def delete_notes_by_name(file, film_name):\n",
    "        df = pandas.read_csv(file, \n",
    "                header=0, \n",
    "                names=['film_name', 'note', 'rating'])\n",
    "        df =  df[df.film_name != film_name] \n",
    "        df.to_csv(file)\n",
    "        return df\n",
    " \n",
    "    def max_film_rate(file):\n",
    "        df = pandas.read_csv(file, \n",
    "                header=0, \n",
    "                names=['film_name', 'note', 'rating'])\n",
    "\n",
    "        df0 =  df[df.rating == max(df.rating)] \n",
    "        return df0\n",
    "    \n",
    "    def min_film_rate(file):\n",
    "        df = pandas.read_csv(file, \n",
    "                header=0, \n",
    "                names=['film_name', 'note', 'rating'])\n",
    "\n",
    "        df0 =  df[df.rating == min(df.rating)] \n",
    "        return df0\n",
    "\n",
    "    def avg_film_rate(file):\n",
    "        df = pandas.read_csv(file, \n",
    "                header=0, \n",
    "                names=['film_name', 'note', 'rating'])\n",
    "        return df[\"rating\"].mean(skipna = True)"
   ]
  }
 ],
 "metadata": {
  "kernelspec": {
   "display_name": "Python 3",
   "language": "python",
   "name": "python3"
  },
  "language_info": {
   "codemirror_mode": {
    "name": "ipython",
    "version": 3
   },
   "file_extension": ".py",
   "mimetype": "text/x-python",
   "name": "python",
   "nbconvert_exporter": "python",
   "pygments_lexer": "ipython3",
   "version": "3.8.3"
  }
 },
 "nbformat": 4,
 "nbformat_minor": 4
}
